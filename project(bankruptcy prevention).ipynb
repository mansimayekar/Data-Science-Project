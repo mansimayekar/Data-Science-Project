{
 "cells": [
  {
   "cell_type": "code",
   "execution_count": 88,
   "id": "71e72815",
   "metadata": {},
   "outputs": [],
   "source": [
    "import pandas as pd\n",
    "import numpy as np\n",
    "import matplotlib.pyplot as plt\n",
    "import seaborn as sns"
   ]
  },
  {
   "cell_type": "code",
   "execution_count": 89,
   "id": "56926179",
   "metadata": {},
   "outputs": [],
   "source": [
    "data=pd.read_csv(\"C:/Users/Win/Desktop/deployment/bank.csv\")"
   ]
  },
  {
   "cell_type": "code",
   "execution_count": 90,
   "id": "91dc626e",
   "metadata": {},
   "outputs": [
    {
     "data": {
      "text/html": [
       "<div>\n",
       "<style scoped>\n",
       "    .dataframe tbody tr th:only-of-type {\n",
       "        vertical-align: middle;\n",
       "    }\n",
       "\n",
       "    .dataframe tbody tr th {\n",
       "        vertical-align: top;\n",
       "    }\n",
       "\n",
       "    .dataframe thead th {\n",
       "        text-align: right;\n",
       "    }\n",
       "</style>\n",
       "<table border=\"1\" class=\"dataframe\">\n",
       "  <thead>\n",
       "    <tr style=\"text-align: right;\">\n",
       "      <th></th>\n",
       "      <th>industrial_risk</th>\n",
       "      <th>management_risk</th>\n",
       "      <th>financial_flexibility</th>\n",
       "      <th>credibility</th>\n",
       "      <th>competitiveness</th>\n",
       "      <th>operating_risk</th>\n",
       "      <th>class</th>\n",
       "    </tr>\n",
       "  </thead>\n",
       "  <tbody>\n",
       "    <tr>\n",
       "      <th>0</th>\n",
       "      <td>0.5</td>\n",
       "      <td>1.0</td>\n",
       "      <td>0.0</td>\n",
       "      <td>0.0</td>\n",
       "      <td>0.0</td>\n",
       "      <td>0.5</td>\n",
       "      <td>bankruptcy</td>\n",
       "    </tr>\n",
       "    <tr>\n",
       "      <th>1</th>\n",
       "      <td>0.0</td>\n",
       "      <td>1.0</td>\n",
       "      <td>0.0</td>\n",
       "      <td>0.0</td>\n",
       "      <td>0.0</td>\n",
       "      <td>1.0</td>\n",
       "      <td>bankruptcy</td>\n",
       "    </tr>\n",
       "    <tr>\n",
       "      <th>2</th>\n",
       "      <td>1.0</td>\n",
       "      <td>0.0</td>\n",
       "      <td>0.0</td>\n",
       "      <td>0.0</td>\n",
       "      <td>0.0</td>\n",
       "      <td>1.0</td>\n",
       "      <td>bankruptcy</td>\n",
       "    </tr>\n",
       "    <tr>\n",
       "      <th>3</th>\n",
       "      <td>0.5</td>\n",
       "      <td>0.0</td>\n",
       "      <td>0.0</td>\n",
       "      <td>0.5</td>\n",
       "      <td>0.0</td>\n",
       "      <td>1.0</td>\n",
       "      <td>bankruptcy</td>\n",
       "    </tr>\n",
       "    <tr>\n",
       "      <th>4</th>\n",
       "      <td>1.0</td>\n",
       "      <td>1.0</td>\n",
       "      <td>0.0</td>\n",
       "      <td>0.0</td>\n",
       "      <td>0.0</td>\n",
       "      <td>1.0</td>\n",
       "      <td>bankruptcy</td>\n",
       "    </tr>\n",
       "  </tbody>\n",
       "</table>\n",
       "</div>"
      ],
      "text/plain": [
       "   industrial_risk  management_risk  financial_flexibility  credibility  \\\n",
       "0              0.5              1.0                    0.0          0.0   \n",
       "1              0.0              1.0                    0.0          0.0   \n",
       "2              1.0              0.0                    0.0          0.0   \n",
       "3              0.5              0.0                    0.0          0.5   \n",
       "4              1.0              1.0                    0.0          0.0   \n",
       "\n",
       "   competitiveness  operating_risk       class  \n",
       "0              0.0             0.5  bankruptcy  \n",
       "1              0.0             1.0  bankruptcy  \n",
       "2              0.0             1.0  bankruptcy  \n",
       "3              0.0             1.0  bankruptcy  \n",
       "4              0.0             1.0  bankruptcy  "
      ]
     },
     "execution_count": 90,
     "metadata": {},
     "output_type": "execute_result"
    }
   ],
   "source": [
    "data.head()"
   ]
  },
  {
   "cell_type": "code",
   "execution_count": 91,
   "id": "0449eff2",
   "metadata": {},
   "outputs": [
    {
     "data": {
      "text/html": [
       "<div>\n",
       "<style scoped>\n",
       "    .dataframe tbody tr th:only-of-type {\n",
       "        vertical-align: middle;\n",
       "    }\n",
       "\n",
       "    .dataframe tbody tr th {\n",
       "        vertical-align: top;\n",
       "    }\n",
       "\n",
       "    .dataframe thead th {\n",
       "        text-align: right;\n",
       "    }\n",
       "</style>\n",
       "<table border=\"1\" class=\"dataframe\">\n",
       "  <thead>\n",
       "    <tr style=\"text-align: right;\">\n",
       "      <th></th>\n",
       "      <th>industrial_risk</th>\n",
       "      <th>management_risk</th>\n",
       "      <th>financial_flexibility</th>\n",
       "      <th>credibility</th>\n",
       "      <th>competitiveness</th>\n",
       "      <th>operating_risk</th>\n",
       "      <th>class</th>\n",
       "    </tr>\n",
       "  </thead>\n",
       "  <tbody>\n",
       "    <tr>\n",
       "      <th>245</th>\n",
       "      <td>0.0</td>\n",
       "      <td>1.0</td>\n",
       "      <td>1.0</td>\n",
       "      <td>1.0</td>\n",
       "      <td>1.0</td>\n",
       "      <td>1.0</td>\n",
       "      <td>non-bankruptcy</td>\n",
       "    </tr>\n",
       "    <tr>\n",
       "      <th>246</th>\n",
       "      <td>1.0</td>\n",
       "      <td>1.0</td>\n",
       "      <td>0.5</td>\n",
       "      <td>1.0</td>\n",
       "      <td>1.0</td>\n",
       "      <td>0.0</td>\n",
       "      <td>non-bankruptcy</td>\n",
       "    </tr>\n",
       "    <tr>\n",
       "      <th>247</th>\n",
       "      <td>0.0</td>\n",
       "      <td>1.0</td>\n",
       "      <td>1.0</td>\n",
       "      <td>0.5</td>\n",
       "      <td>0.5</td>\n",
       "      <td>0.0</td>\n",
       "      <td>non-bankruptcy</td>\n",
       "    </tr>\n",
       "    <tr>\n",
       "      <th>248</th>\n",
       "      <td>1.0</td>\n",
       "      <td>0.0</td>\n",
       "      <td>0.5</td>\n",
       "      <td>1.0</td>\n",
       "      <td>0.5</td>\n",
       "      <td>0.0</td>\n",
       "      <td>non-bankruptcy</td>\n",
       "    </tr>\n",
       "    <tr>\n",
       "      <th>249</th>\n",
       "      <td>1.0</td>\n",
       "      <td>0.0</td>\n",
       "      <td>0.5</td>\n",
       "      <td>0.5</td>\n",
       "      <td>1.0</td>\n",
       "      <td>1.0</td>\n",
       "      <td>non-bankruptcy</td>\n",
       "    </tr>\n",
       "  </tbody>\n",
       "</table>\n",
       "</div>"
      ],
      "text/plain": [
       "     industrial_risk  management_risk  financial_flexibility  credibility  \\\n",
       "245              0.0              1.0                    1.0          1.0   \n",
       "246              1.0              1.0                    0.5          1.0   \n",
       "247              0.0              1.0                    1.0          0.5   \n",
       "248              1.0              0.0                    0.5          1.0   \n",
       "249              1.0              0.0                    0.5          0.5   \n",
       "\n",
       "     competitiveness  operating_risk           class  \n",
       "245              1.0             1.0  non-bankruptcy  \n",
       "246              1.0             0.0  non-bankruptcy  \n",
       "247              0.5             0.0  non-bankruptcy  \n",
       "248              0.5             0.0  non-bankruptcy  \n",
       "249              1.0             1.0  non-bankruptcy  "
      ]
     },
     "execution_count": 91,
     "metadata": {},
     "output_type": "execute_result"
    }
   ],
   "source": [
    "data.tail()"
   ]
  },
  {
   "cell_type": "code",
   "execution_count": 92,
   "id": "fc2bea29",
   "metadata": {},
   "outputs": [
    {
     "data": {
      "text/plain": [
       "(250, 7)"
      ]
     },
     "execution_count": 92,
     "metadata": {},
     "output_type": "execute_result"
    }
   ],
   "source": [
    "data.shape"
   ]
  },
  {
   "cell_type": "code",
   "execution_count": 93,
   "id": "24aab375",
   "metadata": {},
   "outputs": [
    {
     "name": "stdout",
     "output_type": "stream",
     "text": [
      "<class 'pandas.core.frame.DataFrame'>\n",
      "RangeIndex: 250 entries, 0 to 249\n",
      "Data columns (total 7 columns):\n",
      " #   Column                 Non-Null Count  Dtype  \n",
      "---  ------                 --------------  -----  \n",
      " 0   industrial_risk        250 non-null    float64\n",
      " 1   management_risk        250 non-null    float64\n",
      " 2   financial_flexibility  250 non-null    float64\n",
      " 3   credibility            250 non-null    float64\n",
      " 4   competitiveness        250 non-null    float64\n",
      " 5   operating_risk         250 non-null    float64\n",
      " 6   class                  250 non-null    object \n",
      "dtypes: float64(6), object(1)\n",
      "memory usage: 13.8+ KB\n"
     ]
    }
   ],
   "source": [
    "data.info()"
   ]
  },
  {
   "cell_type": "code",
   "execution_count": 94,
   "id": "8c84b6f9",
   "metadata": {},
   "outputs": [
    {
     "data": {
      "text/plain": [
       "industrial_risk          0\n",
       "management_risk          0\n",
       "financial_flexibility    0\n",
       "credibility              0\n",
       "competitiveness          0\n",
       "operating_risk           0\n",
       "class                    0\n",
       "dtype: int64"
      ]
     },
     "execution_count": 94,
     "metadata": {},
     "output_type": "execute_result"
    }
   ],
   "source": [
    "data.isnull().sum()"
   ]
  },
  {
   "cell_type": "markdown",
   "id": "0dcf047a",
   "metadata": {},
   "source": [
    "# Univariate histogram and Correlation analysis"
   ]
  },
  {
   "cell_type": "code",
   "execution_count": 96,
   "id": "4046914d",
   "metadata": {},
   "outputs": [
    {
     "data": {
      "image/png": "[encoded data removed]",
      "text/plain": [
       "<Figure size 864x576 with 6 Axes>"
      ]
     },
     "metadata": {
      "needs_background": "light"
     },
     "output_type": "display_data"
    }
   ],
   "source": [
    "from matplotlib import pyplot\n",
    "\n",
    "data.hist(figsize=(12, 8))\n",
    "pyplot.show()"
   ]
  },
  {
   "cell_type": "code",
   "execution_count": 97,
   "id": "4ad2a50a",
   "metadata": {},
   "outputs": [
    {
     "data": {
      "text/html": [
       "<div>\n",
       "<style scoped>\n",
       "    .dataframe tbody tr th:only-of-type {\n",
       "        vertical-align: middle;\n",
       "    }\n",
       "\n",
       "    .dataframe tbody tr th {\n",
       "        vertical-align: top;\n",
       "    }\n",
       "\n",
       "    .dataframe thead th {\n",
       "        text-align: right;\n",
       "    }\n",
       "</style>\n",
       "<table border=\"1\" class=\"dataframe\">\n",
       "  <thead>\n",
       "    <tr style=\"text-align: right;\">\n",
       "      <th></th>\n",
       "      <th>industrial_risk</th>\n",
       "      <th>management_risk</th>\n",
       "      <th>financial_flexibility</th>\n",
       "      <th>credibility</th>\n",
       "      <th>competitiveness</th>\n",
       "      <th>operating_risk</th>\n",
       "    </tr>\n",
       "  </thead>\n",
       "  <tbody>\n",
       "    <tr>\n",
       "      <th>industrial_risk</th>\n",
       "      <td>1.000000</td>\n",
       "      <td>0.255127</td>\n",
       "      <td>-0.162624</td>\n",
       "      <td>-0.014438</td>\n",
       "      <td>-0.257814</td>\n",
       "      <td>0.144507</td>\n",
       "    </tr>\n",
       "    <tr>\n",
       "      <th>management_risk</th>\n",
       "      <td>0.255127</td>\n",
       "      <td>1.000000</td>\n",
       "      <td>-0.254845</td>\n",
       "      <td>-0.303341</td>\n",
       "      <td>-0.306568</td>\n",
       "      <td>0.213874</td>\n",
       "    </tr>\n",
       "    <tr>\n",
       "      <th>financial_flexibility</th>\n",
       "      <td>-0.162624</td>\n",
       "      <td>-0.254845</td>\n",
       "      <td>1.000000</td>\n",
       "      <td>0.524951</td>\n",
       "      <td>0.686612</td>\n",
       "      <td>-0.116903</td>\n",
       "    </tr>\n",
       "    <tr>\n",
       "      <th>credibility</th>\n",
       "      <td>-0.014438</td>\n",
       "      <td>-0.303341</td>\n",
       "      <td>0.524951</td>\n",
       "      <td>1.000000</td>\n",
       "      <td>0.675689</td>\n",
       "      <td>-0.288458</td>\n",
       "    </tr>\n",
       "    <tr>\n",
       "      <th>competitiveness</th>\n",
       "      <td>-0.257814</td>\n",
       "      <td>-0.306568</td>\n",
       "      <td>0.686612</td>\n",
       "      <td>0.675689</td>\n",
       "      <td>1.000000</td>\n",
       "      <td>-0.211383</td>\n",
       "    </tr>\n",
       "    <tr>\n",
       "      <th>operating_risk</th>\n",
       "      <td>0.144507</td>\n",
       "      <td>0.213874</td>\n",
       "      <td>-0.116903</td>\n",
       "      <td>-0.288458</td>\n",
       "      <td>-0.211383</td>\n",
       "      <td>1.000000</td>\n",
       "    </tr>\n",
       "  </tbody>\n",
       "</table>\n",
       "</div>"
      ],
      "text/plain": [
       "                       industrial_risk  management_risk  \\\n",
       "industrial_risk               1.000000         0.255127   \n",
       "management_risk               0.255127         1.000000   \n",
       "financial_flexibility        -0.162624        -0.254845   \n",
       "credibility                  -0.014438        -0.303341   \n",
       "competitiveness              -0.257814        -0.306568   \n",
       "operating_risk                0.144507         0.213874   \n",
       "\n",
       "                       financial_flexibility  credibility  competitiveness  \\\n",
       "industrial_risk                    -0.162624    -0.014438        -0.257814   \n",
       "management_risk                    -0.254845    -0.303341        -0.306568   \n",
       "financial_flexibility               1.000000     0.524951         0.686612   \n",
       "credibility                         0.524951     1.000000         0.675689   \n",
       "competitiveness                     0.686612     0.675689         1.000000   \n",
       "operating_risk                     -0.116903    -0.288458        -0.211383   \n",
       "\n",
       "                       operating_risk  \n",
       "industrial_risk              0.144507  \n",
       "management_risk              0.213874  \n",
       "financial_flexibility       -0.116903  \n",
       "credibility                 -0.288458  \n",
       "competitiveness             -0.211383  \n",
       "operating_risk               1.000000  "
      ]
     },
     "execution_count": 97,
     "metadata": {},
     "output_type": "execute_result"
    }
   ],
   "source": [
    "#Correlation\n",
    "\n",
    "correlation=data.corr()\n",
    "correlation"
   ]
  },
  {
   "cell_type": "code",
   "execution_count": 98,
   "id": "6396f128",
   "metadata": {},
   "outputs": [
    {
     "data": {
      "text/plain": [
       "<AxesSubplot:>"
      ]
     },
     "execution_count": 98,
     "metadata": {},
     "output_type": "execute_result"
    },
    {
     "data": {
      "image/png": "[encoded data removed]",
      "text/plain": [
       "<Figure size 432x288 with 2 Axes>"
      ]
     },
     "metadata": {
      "needs_background": "light"
     },
     "output_type": "display_data"
    }
   ],
   "source": [
    "sns.heatmap(correlation,xticklabels=correlation.columns, yticklabels=correlation.columns,annot=True)"
   ]
  },
  {
   "cell_type": "markdown",
   "id": "c7890d30",
   "metadata": {},
   "source": [
    "# Transformations"
   ]
  },
  {
   "cell_type": "code",
   "execution_count": 99,
   "id": "c1a1e46d",
   "metadata": {},
   "outputs": [
    {
     "data": {
      "text/plain": [
       "non-bankruptcy    143\n",
       "bankruptcy        107\n",
       "Name: class, dtype: int64"
      ]
     },
     "execution_count": 99,
     "metadata": {},
     "output_type": "execute_result"
    }
   ],
   "source": [
    "data['class'].value_counts()"
   ]
  },
  {
   "cell_type": "code",
   "execution_count": 100,
   "id": "a9bd66a1",
   "metadata": {},
   "outputs": [],
   "source": [
    "data['class'] = data['class'].astype(\"category\")"
   ]
  },
  {
   "cell_type": "code",
   "execution_count": 101,
   "id": "f506401e",
   "metadata": {},
   "outputs": [],
   "source": [
    "# Encoding the categorical columns by using label encoder"
   ]
  },
  {
   "cell_type": "code",
   "execution_count": 102,
   "id": "40a41388",
   "metadata": {},
   "outputs": [],
   "source": [
    "from sklearn import preprocessing\n",
    "label_encoder = preprocessing.LabelEncoder()"
   ]
  },
  {
   "cell_type": "code",
   "execution_count": 103,
   "id": "fc38f9cf",
   "metadata": {},
   "outputs": [],
   "source": [
    "data['class'] = label_encoder.fit_transform(data['class'])\n"
   ]
  },
  {
   "cell_type": "code",
   "execution_count": 104,
   "id": "0acd4ef5",
   "metadata": {},
   "outputs": [
    {
     "data": {
      "text/plain": [
       "0      0\n",
       "1      0\n",
       "2      0\n",
       "3      0\n",
       "4      0\n",
       "      ..\n",
       "245    1\n",
       "246    1\n",
       "247    1\n",
       "248    1\n",
       "249    1\n",
       "Name: class, Length: 250, dtype: int32"
      ]
     },
     "execution_count": 104,
     "metadata": {},
     "output_type": "execute_result"
    }
   ],
   "source": [
    "data['class']"
   ]
  },
  {
   "cell_type": "code",
   "execution_count": 105,
   "id": "be677c46",
   "metadata": {},
   "outputs": [],
   "source": [
    "# let consider bankruptcy=0 and non-bankrupcy=1"
   ]
  },
  {
   "cell_type": "code",
   "execution_count": 106,
   "id": "4c1ddf7a",
   "metadata": {},
   "outputs": [
    {
     "data": {
      "text/plain": [
       "1    143\n",
       "0    107\n",
       "Name: class, dtype: int64"
      ]
     },
     "execution_count": 106,
     "metadata": {},
     "output_type": "execute_result"
    }
   ],
   "source": [
    "data['class'].value_counts()"
   ]
  },
  {
   "cell_type": "markdown",
   "id": "8ae56be1",
   "metadata": {},
   "source": [
    "# Data Rescaling"
   ]
  },
  {
   "cell_type": "code",
   "execution_count": 107,
   "id": "40df358f",
   "metadata": {},
   "outputs": [
    {
     "name": "stdout",
     "output_type": "stream",
     "text": [
      "[[1.  0.  0.  0.  0.5]\n",
      " [1.  0.  0.  0.  1. ]\n",
      " [0.  0.  0.  0.  1. ]\n",
      " [0.  0.  0.5 0.  1. ]\n",
      " [1.  0.  0.  0.  1. ]]\n"
     ]
    }
   ],
   "source": [
    "# Rescale data (between x and y)\n",
    "import pandas as pd\n",
    "data=pd.read_csv(\"C:/Users/Win/Desktop/deployment/bank.csv\")\n",
    "from numpy import set_printoptions\n",
    "from sklearn.preprocessing import MinMaxScaler\n",
    "data['class'] = data['class'].astype(\"category\")\n",
    "from sklearn import preprocessing\n",
    "label_encoder = preprocessing.LabelEncoder()\n",
    "data['class'] = label_encoder.fit_transform(data['class'])\n",
    "array = data.values\n",
    "# separate array into input and output components\n",
    "X = array[:,1:6]\n",
    "Y = array[:,6]\n",
    "\n",
    "scaler = MinMaxScaler()\n",
    "rescaledX = scaler.fit_transform(X)\n",
    "\n",
    "# summarize transformed data\n",
    "set_printoptions(precision=2)\n",
    "print(rescaledX[0:5,:])"
   ]
  },
  {
   "cell_type": "markdown",
   "id": "ae9e486f",
   "metadata": {},
   "source": [
    "# Data Standardization"
   ]
  },
  {
   "cell_type": "code",
   "execution_count": 108,
   "id": "1d87a821",
   "metadata": {},
   "outputs": [
    {
     "name": "stdout",
     "output_type": "stream",
     "text": [
      "[[-0.044  0.942 -0.938 -1.133 -1.082 -0.161]\n",
      " [-1.261  0.942 -0.938 -1.133 -1.082  0.991]\n",
      " [ 1.174 -1.498 -0.938 -1.133 -1.082  0.991]\n",
      " [-0.044 -1.498 -0.938  0.072 -1.082  0.991]\n",
      " [ 1.174  0.942 -0.938 -1.133 -1.082  0.991]]\n"
     ]
    }
   ],
   "source": [
    "# Standardize data (0 mean, 1 stdev)\n",
    "import pandas as pd\n",
    "data=pd.read_csv(\"C:/Users/Win/Desktop/deployment/bank.csv\")\n",
    "from sklearn.preprocessing import StandardScaler\n",
    "data['class'] = data['class'].astype(\"category\")\n",
    "from sklearn import preprocessing\n",
    "label_encoder = preprocessing.LabelEncoder()\n",
    "data['class'] = label_encoder.fit_transform(data['class'])\n",
    "array = data.values\n",
    "# separate array into input and output components\n",
    "X = array[:,0:6]\n",
    "Y = array[:,6]\n",
    "\n",
    "scaler = StandardScaler().fit(X)\n",
    "rescaledX = scaler.transform(X)\n",
    "# summarize transformed data\n",
    "set_printoptions(precision=3)\n",
    "print(rescaledX[0:5,:])"
   ]
  },
  {
   "cell_type": "markdown",
   "id": "b9cbbbd0",
   "metadata": {},
   "source": [
    "# Feature Engineering- Method1"
   ]
  },
  {
   "cell_type": "code",
   "execution_count": 109,
   "id": "eb560cdd",
   "metadata": {},
   "outputs": [
    {
     "data": {
      "text/plain": [
       "array([2, 1, 1, 1, 1, 3])"
      ]
     },
     "execution_count": 109,
     "metadata": {},
     "output_type": "execute_result"
    }
   ],
   "source": [
    "# Feature Extraction with RFE\n",
    "import pandas as pd\n",
    "data=pd.read_csv(\"C:/Users/Win/Desktop/deployment/bank.csv\")\n",
    "from sklearn.feature_selection import RFE\n",
    "from sklearn.linear_model import LogisticRegression\n",
    "data['class'] = data['class'].astype(\"category\")\n",
    "from sklearn import preprocessing\n",
    "label_encoder = preprocessing.LabelEncoder()\n",
    "data['class'] = label_encoder.fit_transform(data['class'])\n",
    "array = data.values\n",
    "X = array[:,0:6]\n",
    "Y = array[:,6]\n",
    "# feature extraction\n",
    "model = LogisticRegression(max_iter=200)\n",
    "\n",
    "\n",
    "rfe = RFE(model, n_features_to_select=4)\n",
    "fit = rfe.fit(X, Y)\n",
    "\n",
    "fit.n_features_\n",
    "fit.support_\n",
    "fit.ranking_\n"
   ]
  },
  {
   "cell_type": "markdown",
   "id": "8c7ca141",
   "metadata": {},
   "source": [
    "# Feature Engineering- Method2"
   ]
  },
  {
   "cell_type": "code",
   "execution_count": 110,
   "id": "3791583d",
   "metadata": {},
   "outputs": [
    {
     "name": "stdout",
     "output_type": "stream",
     "text": [
      "[0.022 0.032 0.218 0.212 0.495 0.02 ]\n"
     ]
    }
   ],
   "source": [
    "# Feature Importance with Extra Trees Classifier\n",
    "import pandas as pd\n",
    "data=pd.read_csv(\"C:/Users/Win/Desktop/deployment/bank.csv\")\n",
    "from sklearn.ensemble import ExtraTreesClassifier\n",
    "data['class'] = data['class'].astype(\"category\")\n",
    "from sklearn import preprocessing\n",
    "label_encoder = preprocessing.LabelEncoder()\n",
    "data['class'] = label_encoder.fit_transform(data['class'])\n",
    "\n",
    "array = data.values\n",
    "X = array[:,0:6]\n",
    "Y = array[:,6]\n",
    "\n",
    "# feature extraction\n",
    "model = ExtraTreesClassifier()\n",
    "model.fit(X, Y)\n",
    "\n",
    "print(model.feature_importances_)"
   ]
  },
  {
   "cell_type": "markdown",
   "id": "615c9b8f",
   "metadata": {},
   "source": [
    "# Model Validation Methods"
   ]
  },
  {
   "cell_type": "code",
   "execution_count": 111,
   "id": "7a149e20",
   "metadata": {},
   "outputs": [
    {
     "data": {
      "text/plain": [
       "100.0"
      ]
     },
     "execution_count": 111,
     "metadata": {},
     "output_type": "execute_result"
    }
   ],
   "source": [
    "# Evaluate using a train test split method\n",
    "import pandas as pd\n",
    "from sklearn.model_selection import train_test_split\n",
    "from sklearn.linear_model import LogisticRegression\n",
    "data=pd.read_csv(\"C:/Users/Win/Desktop/deployment/bank.csv\")\n",
    "# Evaluate using a train test split method\n",
    "import pandas as pd\n",
    "from sklearn.model_selection import train_test_split\n",
    "from sklearn.linear_model import LogisticRegression\n",
    "data=pd.read_csv(\"C:/Users/Win/Desktop/deployment/bank.csv\")\n",
    "array = data.values\n",
    "X = array[:,0:6]\n",
    "Y = array[:,6]\n",
    "\n",
    "test_size = 0.33\n",
    "seed = 5\n",
    "X_train, X_test, Y_train, Y_test = train_test_split(X, Y, test_size=test_size, random_state=seed)\n",
    "\n",
    "model = LogisticRegression(max_iter=500)\n",
    "model.fit(X_train, Y_train)\n",
    "\n",
    "\n",
    "result = model.score(X_test, Y_test)\n",
    "\n",
    "result*100.0\n",
    "array = data.values\n",
    "X = array[:,0:6]\n",
    "Y = array[:,6]\n",
    "\n",
    "test_size = 0.33\n",
    "seed = 5\n",
    "X_train, X_test, Y_train, Y_test = train_test_split(X, Y, test_size=test_size, random_state=seed)\n",
    "\n",
    "model = LogisticRegression(max_iter=500)\n",
    "model.fit(X_train, Y_train)\n",
    "\n",
    "\n",
    "result = model.score(X_test, Y_test)\n",
    "\n",
    "result*100.0"
   ]
  },
  {
   "cell_type": "code",
   "execution_count": 112,
   "id": "be4ce214",
   "metadata": {},
   "outputs": [
    {
     "data": {
      "text/plain": [
       "99.60000000000001"
      ]
     },
     "execution_count": 112,
     "metadata": {},
     "output_type": "execute_result"
    }
   ],
   "source": [
    "# Evaluate using Cross Validation\n",
    "from sklearn.model_selection import KFold\n",
    "from sklearn.model_selection import cross_val_score\n",
    "from sklearn.linear_model import LogisticRegression\n",
    "# Evaluate using Cross Validation\n",
    "from sklearn.model_selection import KFold\n",
    "from sklearn.model_selection import cross_val_score\n",
    "from sklearn.linear_model import LogisticRegression\n",
    "array = data.values\n",
    "X = array[:,0:6]\n",
    "Y = array[:,6]\n",
    "\n",
    "num_folds = 10\n",
    "seed = 7\n",
    "\n",
    "kfold = KFold(n_splits=num_folds)\n",
    "model = LogisticRegression(max_iter=500)\n",
    "\n",
    "results = cross_val_score(model, X, Y, cv=kfold)\n",
    "\n",
    "#Print results\n",
    "\n",
    "results.mean()*100.0\n",
    "results.std()*100.0\n",
    "results.mean()*100.0\n",
    "array = data.values\n",
    "X = array[:,0:6]\n",
    "Y = array[:,6]\n",
    "\n",
    "num_folds = 10\n",
    "seed = 7\n",
    "\n",
    "kfold = KFold(n_splits=num_folds)\n",
    "model = LogisticRegression(max_iter=500)\n",
    "\n",
    "results = cross_val_score(model, X, Y, cv=kfold)\n",
    "\n",
    "#Print results\n",
    "\n",
    "results.mean()*100.0\n",
    "results.std()*100.0\n",
    "results.mean()*100.0"
   ]
  },
  {
   "cell_type": "markdown",
   "id": "9e8b2ccb",
   "metadata": {},
   "source": [
    "# Accuracy method"
   ]
  },
  {
   "cell_type": "code",
   "execution_count": 113,
   "id": "22652039",
   "metadata": {},
   "outputs": [
    {
     "data": {
      "text/plain": [
       "0.012000000000000009"
      ]
     },
     "execution_count": 113,
     "metadata": {},
     "output_type": "execute_result"
    }
   ],
   "source": [
    "# Cross Validation Classification Accuracy\n",
    "import pandas as pd\n",
    "from sklearn.model_selection import KFold\n",
    "from sklearn.model_selection import cross_val_score\n",
    "from sklearn.linear_model import LogisticRegression\n",
    "data=pd.read_csv(\"C:/Users/Win/Desktop/deployment/bank.csv\")\n",
    "# Cross Validation Classification Accuracy\n",
    "import pandas as pd\n",
    "from sklearn.model_selection import KFold\n",
    "from sklearn.model_selection import cross_val_score\n",
    "from sklearn.linear_model import LogisticRegression\n",
    "data=pd.read_csv(\"C:/Users/Win/Desktop/deployment/bank.csv\")\n",
    "array = data.values\n",
    "X = array[:,0:6]\n",
    "Y = array[:,6]\n",
    "\n",
    "kfold = KFold(n_splits=10)\n",
    "model = LogisticRegression(max_iter=500)\n",
    "\n",
    "scoring = 'accuracy'\n",
    "results = cross_val_score(model, X, Y, cv=kfold, scoring=scoring)\n",
    "\n",
    "\n",
    "results.mean()\n",
    "results.std()\n",
    "array = data.values\n",
    "X = array[:,0:6]\n",
    "Y = array[:,6]\n",
    "\n",
    "kfold = KFold(n_splits=10)\n",
    "model = LogisticRegression(max_iter=500)\n",
    "\n",
    "scoring = 'accuracy'\n",
    "results = cross_val_score(model, X, Y, cv=kfold, scoring=scoring)\n",
    "\n",
    "\n",
    "results.mean()\n",
    "results.std()"
   ]
  },
  {
   "cell_type": "code",
   "execution_count": 114,
   "id": "ca844428",
   "metadata": {},
   "outputs": [
    {
     "data": {
      "text/plain": [
       "99.60000000000001"
      ]
     },
     "execution_count": 114,
     "metadata": {},
     "output_type": "execute_result"
    }
   ],
   "source": [
    "results.mean()*100"
   ]
  },
  {
   "cell_type": "markdown",
   "id": "1bd65acf",
   "metadata": {},
   "source": [
    "# Model building"
   ]
  },
  {
   "cell_type": "code",
   "execution_count": 115,
   "id": "b07ee230",
   "metadata": {},
   "outputs": [
    {
     "name": "stdout",
     "output_type": "stream",
     "text": [
      "0.9879999999999999\n"
     ]
    }
   ],
   "source": [
    "# CART Classification\n",
    "from sklearn.model_selection import KFold\n",
    "from sklearn.model_selection import cross_val_score\n",
    "from sklearn.tree import DecisionTreeClassifier\n",
    "import pandas as pd\n",
    "data=pd.read_csv(\"C:/Users/Win/Desktop/deployment/bank.csv\")\n",
    "data['class'] = data['class'].astype(\"category\")\n",
    "from sklearn import preprocessing\n",
    "label_encoder = preprocessing.LabelEncoder()\n",
    "data['class'] = label_encoder.fit_transform(data['class'])\n",
    "\n",
    "array = data.values\n",
    "X = array[:,0:6]\n",
    "Y = array[:,6]\n",
    "\n",
    "kfold = KFold(n_splits=10)\n",
    "\n",
    "model = DecisionTreeClassifier(criterion='gini')\n",
    "\n",
    "results = cross_val_score(model, X, Y, cv=kfold)\n",
    "print(results.mean())\n",
    "\n",
    "model = DecisionTreeClassifier()\n",
    "dt=model.fit(X,Y)"
   ]
  },
  {
   "cell_type": "code",
   "execution_count": 116,
   "id": "9f05ae26",
   "metadata": {},
   "outputs": [
    {
     "name": "stdout",
     "output_type": "stream",
     "text": [
      "0.976\n"
     ]
    }
   ],
   "source": [
    "# Gaussian Naive Bayes Classification\n",
    "\n",
    "from sklearn.naive_bayes import GaussianNB\n",
    "\n",
    "kfold = KFold(n_splits=10)\n",
    "model = GaussianNB()\n",
    "results = cross_val_score(model, X, Y, cv=kfold)\n",
    "print(results.mean())"
   ]
  },
  {
   "cell_type": "code",
   "execution_count": 117,
   "id": "a11ae76e",
   "metadata": {},
   "outputs": [
    {
     "name": "stdout",
     "output_type": "stream",
     "text": [
      "0.9800000000000001\n"
     ]
    }
   ],
   "source": [
    "# KNN Classification\n",
    "from sklearn.neighbors import KNeighborsClassifier\n",
    "\n",
    "kfold = KFold(n_splits=10)\n",
    "model = KNeighborsClassifier(n_neighbors=17)\n",
    "\n",
    "results = cross_val_score(model, X, Y, cv=kfold)\n",
    "\n",
    "print(results.mean())\n"
   ]
  },
  {
   "cell_type": "code",
   "execution_count": 118,
   "id": "bb488333",
   "metadata": {},
   "outputs": [
    {
     "name": "stdout",
     "output_type": "stream",
     "text": [
      "0.9960000000000001\n"
     ]
    }
   ],
   "source": [
    "from sklearn.svm import SVC\n",
    "\n",
    "kfold = KFold(n_splits=10)\n",
    "\n",
    "model = SVC()\n",
    "results = cross_val_score(model, X, Y, cv=kfold)\n",
    "print(results.mean())\n"
   ]
  },
  {
   "cell_type": "code",
   "execution_count": 119,
   "id": "befb2117",
   "metadata": {},
   "outputs": [
    {
     "name": "stdout",
     "output_type": "stream",
     "text": [
      "0.992\n"
     ]
    }
   ],
   "source": [
    "# AdaBoost Classification\n",
    "from sklearn.ensemble import AdaBoostClassifier\n",
    "\n",
    "num_trees = 10\n",
    "\n",
    "kfold = KFold(n_splits=10)\n",
    "model = AdaBoostClassifier(n_estimators=num_trees)\n",
    "results = cross_val_score(model, X, Y, cv=kfold)\n",
    "print(results.mean())"
   ]
  },
  {
   "cell_type": "code",
   "execution_count": 120,
   "id": "11037a94",
   "metadata": {},
   "outputs": [
    {
     "name": "stdout",
     "output_type": "stream",
     "text": [
      "0.992\n"
     ]
    }
   ],
   "source": [
    "# Bagged Decision Trees for Classification\n",
    "\n",
    "from sklearn.ensemble import BaggingClassifier\n",
    "from sklearn.tree import DecisionTreeClassifier\n",
    "\n",
    "\n",
    "kfold = KFold(n_splits=10)\n",
    "cart = DecisionTreeClassifier()\n",
    "num_trees = 100\n",
    "model = BaggingClassifier(base_estimator=cart, n_estimators=num_trees)\n",
    "results = cross_val_score(model, X, Y, cv=kfold)\n",
    "print(results.mean())"
   ]
  },
  {
   "cell_type": "code",
   "execution_count": 121,
   "id": "022ec8f6",
   "metadata": {},
   "outputs": [
    {
     "name": "stdout",
     "output_type": "stream",
     "text": [
      "0.992\n"
     ]
    }
   ],
   "source": [
    "# Random Forest Classification\n",
    "from sklearn.ensemble import RandomForestClassifier\n",
    "\n",
    "X = array[:,0:6]\n",
    "Y = array[:,6]\n",
    "num_trees = 100\n",
    "max_features = 3\n",
    "kfold = KFold(n_splits=10)\n",
    "model = RandomForestClassifier(n_estimators=num_trees, max_features=max_features)\n",
    "results = cross_val_score(model, X, Y, cv=kfold)\n",
    "print(results.mean())\n"
   ]
  },
  {
   "cell_type": "code",
   "execution_count": 122,
   "id": "66ab8974",
   "metadata": {},
   "outputs": [
    {
     "name": "stdout",
     "output_type": "stream",
     "text": [
      "0.9960000000000001\n"
     ]
    }
   ],
   "source": [
    "# Voting Ensemble for Classification\n",
    "from sklearn.linear_model import LogisticRegression\n",
    "from sklearn.tree import DecisionTreeClassifier\n",
    "from sklearn.svm import SVC\n",
    "from sklearn.ensemble import VotingClassifier\n",
    "\n",
    "\n",
    "kfold = KFold(n_splits=10)\n",
    "\n",
    "# create the sub models\n",
    "estimators = []\n",
    "model1 = LogisticRegression(max_iter=500)\n",
    "estimators.append(('logistic', model1))\n",
    "model2 = DecisionTreeClassifier()\n",
    "estimators.append(('cart', model2))\n",
    "model3 = SVC()\n",
    "estimators.append(('svm', model3))\n",
    "\n",
    "# create the ensemble model\n",
    "ensemble = VotingClassifier(estimators)\n",
    "results = cross_val_score(ensemble, X, Y, cv=kfold)\n",
    "print(results.mean())"
   ]
  },
  {
   "cell_type": "markdown",
   "id": "141fae79",
   "metadata": {},
   "source": [
    "# Compare the algorithms"
   ]
  },
  {
   "cell_type": "code",
   "execution_count": 123,
   "id": "f195ba95",
   "metadata": {},
   "outputs": [
    {
     "name": "stdout",
     "output_type": "stream",
     "text": [
      "LR: 0.996000 (0.012000)\n"
     ]
    }
   ],
   "source": [
    "# Compare Algorithms\n",
    "import pandas as pd\n",
    "from matplotlib import pyplot\n",
    "from sklearn.model_selection import KFold\n",
    "from sklearn.model_selection import cross_val_score\n",
    "from sklearn.linear_model import LogisticRegression\n",
    "from sklearn.tree import DecisionTreeClassifier\n",
    "from sklearn.neighbors import KNeighborsClassifier\n",
    "from sklearn.discriminant_analysis import LinearDiscriminantAnalysis\n",
    "from sklearn.naive_bayes import GaussianNB\n",
    "from sklearn.svm import SVC\n",
    "# load dataset\n",
    "data = pd.read_csv(\"C:/Users/Win/Desktop/deployment/bank.csv\")\n",
    "data['class'] = data['class'].astype(\"category\")\n",
    "from sklearn import preprocessing\n",
    "label_encoder = preprocessing.LabelEncoder()\n",
    "data['class'] = label_encoder.fit_transform(data['class'])\n",
    "array = data.values\n",
    "X = array[:,0:6]\n",
    "Y = array[:,6]\n",
    "\n",
    "\n",
    "# prepare models\n",
    "models = []\n",
    "models.append(('KNN', KNeighborsClassifier()))\n",
    "models.append(('CART', DecisionTreeClassifier()))\n",
    "models.append(('NB', GaussianNB()))\n",
    "models.append(('SVM', SVC()))\n",
    "models.append(('LR', LogisticRegression(max_iter=400)))\n",
    "# evaluate each model in turn\n",
    "results = []\n",
    "names = []\n",
    "scoring = 'accuracy'\n",
    "for name, model in models:\n",
    "    kfold = KFold(n_splits=10)\n",
    "    cv_results = cross_val_score(model, X, Y, cv=kfold, scoring=scoring)\n",
    "    results.append(cv_results)\n",
    "    names.append(name)\n",
    "    msg = \"%s: %f (%f)\" % (name, cv_results.mean(), cv_results.std())\n",
    "print(msg)"
   ]
  },
  {
   "cell_type": "markdown",
   "id": "4907f292",
   "metadata": {},
   "source": [
    "# Comparing Model using accuracy,precision,recall and f1 scores"
   ]
  },
  {
   "cell_type": "code",
   "execution_count": 124,
   "id": "3168de75",
   "metadata": {},
   "outputs": [],
   "source": [
    "import matplotlib.pyplot as plt\n",
    "from matplotlib.colors import ListedColormap\n",
    "from sklearn.metrics import recall_score, precision_score, f1_score\n",
    "import warnings\n",
    "warnings.filterwarnings('ignore')\n",
    "\n",
    "data=pd.read_csv(\"C:/Users/Win/Desktop/deployment/bank.csv\")\n",
    "data['class'] = data['class'].astype(\"category\")\n",
    "from sklearn import preprocessing\n",
    "label_encoder = preprocessing.LabelEncoder()\n",
    "data['class'] = label_encoder.fit_transform(data['class'])\n",
    "x=data.iloc[:,0:6]\n",
    "y=data.iloc[:,6]"
   ]
  },
  {
   "cell_type": "code",
   "execution_count": 125,
   "id": "4453680f",
   "metadata": {},
   "outputs": [],
   "source": [
    "names = [\"Nearest Neighbors\",\"Logistic Regression\", \"SVM\",\n",
    "         \"Decision Tree\", \"Random Forest\",\"GaussianNB\"]"
   ]
  },
  {
   "cell_type": "code",
   "execution_count": 126,
   "id": "97645fec",
   "metadata": {},
   "outputs": [],
   "source": [
    "classifiers = [\n",
    "    KNeighborsClassifier(),\n",
    "    LogisticRegression(),\n",
    "    SVC(),\n",
    "    DecisionTreeClassifier(),\n",
    "    RandomForestClassifier(),\n",
    "    GaussianNB(),\n",
    "    ]"
   ]
  },
  {
   "cell_type": "code",
   "execution_count": 127,
   "id": "511964a5",
   "metadata": {},
   "outputs": [],
   "source": [
    "x_train, x_test, y_train, y_test = train_test_split(x,y,test_size=0.3,\n",
    "                                                    random_state=1)"
   ]
  },
  {
   "cell_type": "code",
   "execution_count": 128,
   "id": "72c7f90d",
   "metadata": {},
   "outputs": [],
   "source": [
    "model_cols = []\n",
    "df=pd.DataFrame(columns=model_cols)\n",
    "index=0\n",
    "\n",
    "for name, clf in zip(names, classifiers):\n",
    "    clf.fit(x_train,y_train)\n",
    "    df.loc[index,'Classifiers'] = name\n",
    "    df.loc[index,'Train Accuracy'] = clf.score(x_train,y_train)\n",
    "    df.loc[index,'Test Accuracy'] = clf.score(x_test,y_test)\n",
    "    df.loc[index,'Precision'] = precision_score(y_test,clf.predict(x_test))\n",
    "    df.loc[index,'Recall'] = recall_score(y_test,clf.predict(x_test))\n",
    "    df.loc[index,'F1 Score'] = f1_score(y_test,clf.predict(x_test))\n",
    "    index+=1"
   ]
  },
  {
   "cell_type": "code",
   "execution_count": 129,
   "id": "dd87ab70",
   "metadata": {},
   "outputs": [
    {
     "data": {
      "image/png": "[encoded data removed]",
      "text/plain": [
       "<Figure size 432x288 with 1 Axes>"
      ]
     },
     "metadata": {
      "needs_background": "light"
     },
     "output_type": "display_data"
    }
   ],
   "source": [
    "import seaborn as sns\n",
    "sns.barplot(x='Classifiers',y='Train Accuracy', data=df, palette='hot',\n",
    "            edgecolor=sns.color_palette('dark',7))\n",
    "plt.xticks(rotation=90)\n",
    "plt.title('Model Train Accuracy Comparision')\n",
    "plt.show()"
   ]
  },
  {
   "cell_type": "code",
   "execution_count": 130,
   "id": "9b36d816",
   "metadata": {},
   "outputs": [
    {
     "data": {
      "image/png": "[encoded data removed]",
      "text/plain": [
       "<Figure size 432x288 with 1 Axes>"
      ]
     },
     "metadata": {
      "needs_background": "light"
     },
     "output_type": "display_data"
    }
   ],
   "source": [
    "import seaborn as sns\n",
    "sns.barplot(x='Classifiers',y='Test Accuracy', data=df, palette='hot',\n",
    "            edgecolor=sns.color_palette('dark',7))\n",
    "plt.xticks(rotation=90)\n",
    "plt.title('Model Test Accuracy Comparision')\n",
    "plt.show()"
   ]
  },
  {
   "cell_type": "code",
   "execution_count": 131,
   "id": "6b599eed",
   "metadata": {},
   "outputs": [
    {
     "data": {
      "image/png": "[encoded data removed]",
      "text/plain": [
       "<Figure size 432x288 with 1 Axes>"
      ]
     },
     "metadata": {
      "needs_background": "light"
     },
     "output_type": "display_data"
    }
   ],
   "source": [
    "import seaborn as sns\n",
    "sns.barplot(x='Classifiers',y='Precision', data=df, palette='hot',\n",
    "            edgecolor=sns.color_palette('dark',7))\n",
    "plt.xticks(rotation=90)\n",
    "plt.title('Model Precision Comparision')\n",
    "plt.show()\n"
   ]
  },
  {
   "cell_type": "code",
   "execution_count": 132,
   "id": "e72ff768",
   "metadata": {},
   "outputs": [
    {
     "data": {
      "image/png": "[encoded data removed]",
      "text/plain": [
       "<Figure size 432x288 with 1 Axes>"
      ]
     },
     "metadata": {
      "needs_background": "light"
     },
     "output_type": "display_data"
    }
   ],
   "source": [
    "import seaborn as sns\n",
    "sns.barplot(x='Classifiers',y='Recall', data=df, palette='hot',\n",
    "            edgecolor=sns.color_palette('dark',7))\n",
    "plt.xticks(rotation=90)\n",
    "plt.title('Model Recall Comparision')\n",
    "plt.show()\n"
   ]
  },
  {
   "cell_type": "code",
   "execution_count": null,
   "id": "22469f6f",
   "metadata": {},
   "outputs": [],
   "source": [
    "# import seaborn as sns\n",
    "sns.barplot(x='Classifiers',y='F1 Score', data=df, palette='hot',\n",
    "            edgecolor=sns.color_palette('dark',7))\n",
    "plt.xticks(rotation=90)\n",
    "plt.title('Model F1 Score Comparision')\n",
    "plt.show()"
   ]
  },
  {
   "cell_type": "markdown",
   "id": "eadf3e05",
   "metadata": {},
   "source": [
    "# ML Pipelines"
   ]
  },
  {
   "cell_type": "code",
   "execution_count": 136,
   "id": "7874707b",
   "metadata": {},
   "outputs": [
    {
     "name": "stdout",
     "output_type": "stream",
     "text": [
      "0.9960000000000001\n"
     ]
    }
   ],
   "source": [
    "# Create a pipeline that standardizes the data then creates a model\n",
    "import pandas as pd\n",
    "from sklearn.model_selection import KFold\n",
    "from sklearn.model_selection import cross_val_score\n",
    "from sklearn.preprocessing import StandardScaler\n",
    "from sklearn.pipeline import Pipeline\n",
    "from sklearn.linear_model import LogisticRegression\n",
    "\n",
    "# load data\n",
    "data = pd.read_csv(\"C:/Users/Win/Desktop/deployment/bank.csv\")\n",
    "data['class'] = data['class'].astype(\"category\")\n",
    "from sklearn import preprocessing\n",
    "label_encoder = preprocessing.LabelEncoder()\n",
    "data['class'] = label_encoder.fit_transform(data['class'])\n",
    "array = data.values\n",
    "X = array[:,0:6]\n",
    "Y = array[:,6]\n",
    "\n",
    "\n",
    "# create pipeline\n",
    "estimators = []\n",
    "estimators.append(('standardize', StandardScaler()))\n",
    "estimators.append(('log', LogisticRegression()))\n",
    "model = Pipeline(estimators)\n",
    "\n",
    "# evaluate pipeline\n",
    "kfold = KFold(n_splits=10)\n",
    "results = cross_val_score(model, X, Y, cv=kfold)\n",
    "print(results.mean())"
   ]
  },
  {
   "cell_type": "code",
   "execution_count": 137,
   "id": "1c4b59f4",
   "metadata": {},
   "outputs": [
    {
     "name": "stdout",
     "output_type": "stream",
     "text": [
      "0.9960000000000001\n"
     ]
    }
   ],
   "source": [
    "# Create a pipeline that extracts features from the data then creates a model\n",
    "import pandas as pd\n",
    "from sklearn.model_selection import KFold\n",
    "from sklearn.model_selection import cross_val_score\n",
    "from sklearn.pipeline import Pipeline\n",
    "from sklearn.pipeline import FeatureUnion\n",
    "from sklearn.linear_model import LogisticRegression\n",
    "from sklearn.decomposition import PCA\n",
    "from sklearn.feature_selection import SelectKBest\n",
    "# load data\n",
    "data = pd.read_csv(\"C:/Users/Win/Desktop/deployment/bank.csv\")\n",
    "data['class'] = data['class'].astype(\"category\")\n",
    "from sklearn import preprocessing\n",
    "label_encoder = preprocessing.LabelEncoder()\n",
    "data['class'] = label_encoder.fit_transform(data['class'])\n",
    "array = data.values\n",
    "X = array[:,0:6]\n",
    "Y = array[:,6]\n",
    "\n",
    "# create feature union\n",
    "features = []\n",
    "features.append(('pca', PCA(n_components=3)))\n",
    "features.append(('select_best', SelectKBest(k=6)))\n",
    "feature_union = FeatureUnion(features)\n",
    "\n",
    "# create pipeline\n",
    "estimators = []\n",
    "estimators.append(('feature_union', feature_union))\n",
    "estimators.append(('logistic', LogisticRegression(max_iter=300)))\n",
    "model = Pipeline(estimators)\n",
    "# evaluate pipeline\n",
    "kfold = KFold(n_splits=10)\n",
    "results = cross_val_score(model, X, Y, cv=kfold)\n",
    "print(results.mean())\n"
   ]
  },
  {
   "cell_type": "code",
   "execution_count": 146,
   "id": "0a8d30cd",
   "metadata": {},
   "outputs": [
    {
     "name": "stdout",
     "output_type": "stream",
     "text": [
      "1.0\n"
     ]
    }
   ],
   "source": [
    "# Save Model Using Pickle and load and predict\n",
    "import pandas as pd\n",
    "from sklearn.model_selection import train_test_split\n",
    "from sklearn.linear_model import LogisticRegression\n",
    "from pickle import dump\n",
    "from pickle import load\n",
    "data = pd.read_csv(\"C:/Users/Win/Desktop/deployment/bank.csv\")\n",
    "\n",
    "data['class'] = data['class'].astype(\"category\")\n",
    "from sklearn import preprocessing\n",
    "label_encoder = preprocessing.LabelEncoder()\n",
    "data['class'] = label_encoder.fit_transform(data['class'])\n",
    "array = data.values\n",
    "X = array[:,0:6]\n",
    "Y = array[:,6]\n",
    "\n",
    "X_train, X_test, Y_train, Y_test = train_test_split(X, Y, test_size=0.33, random_state=7)\n",
    "# Fit the model on 33%\n",
    "model = LogisticRegression(max_iter=200)\n",
    "model.fit(X_train, Y_train)\n",
    "\n",
    "# save the model to disk\n",
    "data = 'finalized_model.sav'\n",
    "dump(model, open('data', 'wb'))\n",
    "\n",
    "# some time later...\n",
    "\n",
    "# load the model from disk\n",
    "loaded_model = load(open('data', 'rb'))\n",
    "result = loaded_model.score(X_test, Y_test)\n",
    "print(result)"
   ]
  },
  {
   "cell_type": "code",
   "execution_count": 147,
   "id": "4fb5d2f9",
   "metadata": {},
   "outputs": [
    {
     "data": {
      "text/plain": [
       "array([0., 0., 0., 1., 0., 0., 1., 1., 0., 1., 1., 1., 0., 0., 1., 1., 1.,\n",
       "       0., 1., 1., 1., 1., 0., 1., 1., 1., 1., 0., 1., 1., 0., 1., 0., 0.,\n",
       "       1., 0., 1., 1., 1., 1., 0., 1., 1., 0., 1., 1., 0., 0., 1., 1., 1.,\n",
       "       1., 1., 0., 0., 1., 0., 1., 0., 0., 1., 0., 1., 0., 1., 0., 0., 1.,\n",
       "       1., 1., 1., 0., 1., 1., 1., 0., 0., 0., 1., 1., 0., 1., 1., 1., 1.,\n",
       "       1., 0., 0., 1., 0., 1., 1., 1., 1., 1., 1., 1., 0., 1., 1., 1., 1.,\n",
       "       0., 0., 0., 1., 0., 1., 1., 0., 1., 1., 1., 1., 0., 1., 0., 1., 1.,\n",
       "       0., 1., 0., 0., 1., 1., 0., 1., 1., 1., 1., 1., 1., 0., 0., 1., 0.,\n",
       "       1., 0., 0., 0., 0., 0., 1., 1., 1., 1., 0., 1., 1., 1., 1., 0., 1.,\n",
       "       0., 1., 0., 1., 1., 0., 0., 1., 1., 0., 1., 0., 1., 1.])"
      ]
     },
     "execution_count": 147,
     "metadata": {},
     "output_type": "execute_result"
    }
   ],
   "source": [
    "y_pred = model.predict(X_train)\n",
    "y_pred"
   ]
  },
  {
   "cell_type": "code",
   "execution_count": 148,
   "id": "55066b15",
   "metadata": {},
   "outputs": [
    {
     "data": {
      "text/plain": [
       "array([1., 1., 0., 0., 0., 1., 0., 1., 1., 1., 1., 1., 1., 0., 0., 0., 0.,\n",
       "       1., 0., 1., 1., 1., 1., 0., 1., 0., 0., 0., 1., 0., 0., 0., 1., 0.,\n",
       "       0., 1., 0., 0., 0., 1., 1., 1., 0., 0., 0., 1., 0., 1., 0., 1., 1.,\n",
       "       1., 0., 1., 1., 1., 0., 0., 0., 1., 0., 1., 0., 1., 0., 0., 0., 1.,\n",
       "       1., 1., 0., 0., 0., 1., 0., 1., 1., 1., 0., 0., 1., 1., 0.])"
      ]
     },
     "execution_count": 148,
     "metadata": {},
     "output_type": "execute_result"
    }
   ],
   "source": [
    "y_pred_test=model.predict(X_test)\n",
    "y_pred_test"
   ]
  },
  {
   "cell_type": "code",
   "execution_count": 149,
   "id": "6fd9b885",
   "metadata": {},
   "outputs": [
    {
     "data": {
      "text/html": [
       "<div>\n",
       "<style scoped>\n",
       "    .dataframe tbody tr th:only-of-type {\n",
       "        vertical-align: middle;\n",
       "    }\n",
       "\n",
       "    .dataframe tbody tr th {\n",
       "        vertical-align: top;\n",
       "    }\n",
       "\n",
       "    .dataframe thead th {\n",
       "        text-align: right;\n",
       "    }\n",
       "</style>\n",
       "<table border=\"1\" class=\"dataframe\">\n",
       "  <thead>\n",
       "    <tr style=\"text-align: right;\">\n",
       "      <th>col_0</th>\n",
       "      <th>0.0</th>\n",
       "      <th>1.0</th>\n",
       "    </tr>\n",
       "    <tr>\n",
       "      <th>row_0</th>\n",
       "      <th></th>\n",
       "      <th></th>\n",
       "    </tr>\n",
       "  </thead>\n",
       "  <tbody>\n",
       "    <tr>\n",
       "      <th>0.0</th>\n",
       "      <td>64</td>\n",
       "      <td>0</td>\n",
       "    </tr>\n",
       "    <tr>\n",
       "      <th>1.0</th>\n",
       "      <td>1</td>\n",
       "      <td>102</td>\n",
       "    </tr>\n",
       "  </tbody>\n",
       "</table>\n",
       "</div>"
      ],
      "text/plain": [
       "col_0  0.0  1.0\n",
       "row_0          \n",
       "0.0     64    0\n",
       "1.0      1  102"
      ]
     },
     "execution_count": 149,
     "metadata": {},
     "output_type": "execute_result"
    }
   ],
   "source": [
    "pd.crosstab(y_pred,Y_train)"
   ]
  },
  {
   "cell_type": "code",
   "execution_count": 150,
   "id": "7d767c05",
   "metadata": {},
   "outputs": [
    {
     "data": {
      "text/html": [
       "<div>\n",
       "<style scoped>\n",
       "    .dataframe tbody tr th:only-of-type {\n",
       "        vertical-align: middle;\n",
       "    }\n",
       "\n",
       "    .dataframe tbody tr th {\n",
       "        vertical-align: top;\n",
       "    }\n",
       "\n",
       "    .dataframe thead th {\n",
       "        text-align: right;\n",
       "    }\n",
       "</style>\n",
       "<table border=\"1\" class=\"dataframe\">\n",
       "  <thead>\n",
       "    <tr style=\"text-align: right;\">\n",
       "      <th>col_0</th>\n",
       "      <th>0.0</th>\n",
       "      <th>1.0</th>\n",
       "    </tr>\n",
       "    <tr>\n",
       "      <th>row_0</th>\n",
       "      <th></th>\n",
       "      <th></th>\n",
       "    </tr>\n",
       "  </thead>\n",
       "  <tbody>\n",
       "    <tr>\n",
       "      <th>0.0</th>\n",
       "      <td>42</td>\n",
       "      <td>0</td>\n",
       "    </tr>\n",
       "    <tr>\n",
       "      <th>1.0</th>\n",
       "      <td>0</td>\n",
       "      <td>41</td>\n",
       "    </tr>\n",
       "  </tbody>\n",
       "</table>\n",
       "</div>"
      ],
      "text/plain": [
       "col_0  0.0  1.0\n",
       "row_0          \n",
       "0.0     42    0\n",
       "1.0      0   41"
      ]
     },
     "execution_count": 150,
     "metadata": {},
     "output_type": "execute_result"
    }
   ],
   "source": [
    "pd.crosstab(y_pred_test,Y_test)"
   ]
  },
  {
   "cell_type": "code",
   "execution_count": null,
   "id": "8de48db7",
   "metadata": {},
   "outputs": [],
   "source": []
  }
 ],
 "metadata": {
  "kernelspec": {
   "display_name": "Python 3",
   "language": "python",
   "name": "python3"
  },
  "language_info": {
   "codemirror_mode": {
    "name": "ipython",
    "version": 3
   },
   "file_extension": ".py",
   "mimetype": "text/x-python",
   "name": "python",
   "nbconvert_exporter": "python",
   "pygments_lexer": "ipython3",
   "version": "3.8.8"
  }
 },
 "nbformat": 4,
 "nbformat_minor": 5
}
